{
 "cells": [
  {
   "cell_type": "code",
   "execution_count": 42,
   "metadata": {},
   "outputs": [],
   "source": [
    "#Import necessary libraries\n",
    "import numpy as np\n",
    "import pandas as pd\n",
    "from sklearn.preprocessing import OneHotEncoder"
   ]
  },
  {
   "cell_type": "code",
   "execution_count": 31,
   "metadata": {},
   "outputs": [],
   "source": [
    "#Import data\n",
    "fifteen = pd.read_csv(\"../data/2015.csv\")\n",
    "sixteen = pd.read_csv(\"../data/2016.csv\")\n",
    "seventeen = pd.read_csv(\"../data/2017.csv\")\n",
    "eighteen = pd.read_csv(\"../data/2018.csv\")\n",
    "nineteen = pd.read_csv(\"../data/2019.csv\")"
   ]
  },
  {
   "cell_type": "code",
   "execution_count": null,
   "metadata": {},
   "outputs": [],
   "source": []
  },
  {
   "cell_type": "code",
   "execution_count": 32,
   "metadata": {},
   "outputs": [],
   "source": [
    "# Rename columns\n",
    "seventeen = seventeen.rename(columns = {\n",
    "    \"Happiness.Rank\":\"Happiness Rank\", \"Economy..GDP.per.Capita.\":\"Economy (GDP per Capita)\", \n",
    "    \"Health..Life.Expectancy.\":\"Health (Life Expectancy)\",\"Trust..Government.Corruption.\":\"Trust (Government Corruption)\"\n",
    "})\n",
    "\n",
    "eighteen = eighteen.rename(columns = {\n",
    "    \"Country or region\":\"Country\", \"Overall rank\":\"Happiness Rank\", \"GDP per capita\":\"Economy (GDP per Capita)\",\n",
    "    \"Social support\":\"Family\", \"Healthy life expectancy\":\"Health (Life Expectancy)\", \"Freedom to make life choices\":\"Freedom\",\n",
    "    \"Perceptions of corruption\":\"Trust (Government Corruption)\"\n",
    "})\n",
    "nineteen = nineteen.rename(columns = {\n",
    "    \"Country or region\":\"Country\", \"Overall rank\":\"Happiness Rank\", \"GDP per capita\":\"Economy (GDP per Capita)\",\n",
    "    \"Social support\":\"Family\", \"Healthy life expectancy\":\"Health (Life Expectancy)\", \"Freedom to make life choices\":\"Freedom\",\n",
    "    \"Perceptions of corruption\":\"Trust (Government Corruption)\"\n",
    "})"
   ]
  },
  {
   "cell_type": "code",
   "execution_count": 33,
   "metadata": {},
   "outputs": [
    {
     "name": "stdout",
     "output_type": "stream",
     "text": [
      "Index(['Country', 'Region', 'Happiness Rank', 'Happiness Score',\n",
      "       'Standard Error', 'Economy (GDP per Capita)', 'Family',\n",
      "       'Health (Life Expectancy)', 'Freedom', 'Trust (Government Corruption)',\n",
      "       'Generosity', 'Dystopia Residual'],\n",
      "      dtype='object')\n",
      "Index(['Country', 'Region', 'Happiness Rank', 'Happiness Score',\n",
      "       'Lower Confidence Interval', 'Upper Confidence Interval',\n",
      "       'Economy (GDP per Capita)', 'Family', 'Health (Life Expectancy)',\n",
      "       'Freedom', 'Trust (Government Corruption)', 'Generosity',\n",
      "       'Dystopia Residual'],\n",
      "      dtype='object')\n",
      "Index(['Country', 'Happiness Rank', 'Happiness.Score', 'Whisker.high',\n",
      "       'Whisker.low', 'Economy (GDP per Capita)', 'Family',\n",
      "       'Health (Life Expectancy)', 'Freedom', 'Generosity',\n",
      "       'Trust (Government Corruption)', 'Dystopia.Residual'],\n",
      "      dtype='object')\n",
      "Index(['Happiness Rank', 'Country', 'Score', 'Economy (GDP per Capita)',\n",
      "       'Family', 'Health (Life Expectancy)', 'Freedom', 'Generosity',\n",
      "       'Trust (Government Corruption)'],\n",
      "      dtype='object')\n",
      "Index(['Happiness Rank', 'Country', 'Score', 'Economy (GDP per Capita)',\n",
      "       'Family', 'Health (Life Expectancy)', 'Freedom', 'Generosity',\n",
      "       'Trust (Government Corruption)'],\n",
      "      dtype='object')\n"
     ]
    }
   ],
   "source": [
    "\n",
    "dfs = [fifteen, sixteen, seventeen, eighteen, nineteen]\n",
    "for df in dfs:\n",
    "    print(df.columns)"
   ]
  },
  {
   "cell_type": "code",
   "execution_count": 34,
   "metadata": {},
   "outputs": [
    {
     "data": {
      "text/plain": [
       "list"
      ]
     },
     "execution_count": 34,
     "metadata": {},
     "output_type": "execute_result"
    }
   ],
   "source": [
    "type(dfs)"
   ]
  },
  {
   "cell_type": "code",
   "execution_count": 35,
   "metadata": {},
   "outputs": [],
   "source": [
    "df = pd.concat(dfs) # build pandas dataframe from list(dfs)\n",
    "df = df.sort_values(by = ['Country']) # sort by country"
   ]
  },
  {
   "cell_type": "code",
   "execution_count": null,
   "metadata": {},
   "outputs": [],
   "source": []
  },
  {
   "cell_type": "code",
   "execution_count": 36,
   "metadata": {},
   "outputs": [],
   "source": [
    "# drop columns that are not necessary/helpful in analysis\n",
    "df = df.drop(columns=['Happiness Score','Standard Error','Dystopia Residual','Lower Confidence Interval','Upper Confidence Interval','Happiness.Score','Whisker.high','Whisker.low','Dystopia.Residual','Score',])\n",
    "\n",
    "df = df.reset_index() # reset the indext\n",
    "\n",
    "# Drop Northern Cyprus because it is not recognised as a country (apart from by Turkey)\n",
    "df = df.drop(index=df.iloc[np.where(df['Country'] == 'Northern Cyprus')].index)\n",
    "\n",
    "df = df.drop(index=df.iloc[np.where(df['Country'] == 'Northern Macedonia')].index)\n",
    "\n",
    "df.at[625,['Country']] = 'Somaliland Region'"
   ]
  },
  {
   "cell_type": "code",
   "execution_count": 37,
   "metadata": {},
   "outputs": [
    {
     "data": {
      "text/plain": [
       "pandas.core.frame.DataFrame"
      ]
     },
     "execution_count": 37,
     "metadata": {},
     "output_type": "execute_result"
    }
   ],
   "source": [
    "type(df)"
   ]
  },
  {
   "cell_type": "code",
   "execution_count": 38,
   "metadata": {},
   "outputs": [],
   "source": [
    "# Pre-process countries\n",
    "countries = list(set(df['Country'].values))\n",
    "countries = sorted(countries)"
   ]
  },
  {
   "cell_type": "code",
   "execution_count": 39,
   "metadata": {},
   "outputs": [],
   "source": [
    "# Drop countries with NaN's\n",
    "new_regions = []\n",
    "for i in range(len(countries)):\n",
    "        country_index = np.where(df['Country'] == countries[i]) # Get df of current country\n",
    "        current_country_df = df.iloc[country_index]\n",
    "        if all(pd.isnull(current_country_df['Region'].values)): # if all null for regions, drop country from df\n",
    "            country_index = np.where(df['Country'] == countries[i])[0]\n",
    "            for vals in country_index:\n",
    "                try:\n",
    "                    df = df.drop(index = vals)\n",
    "                except KeyError:\n",
    "                    pass\n",
    "        else:\n",
    "            region_name_pos = np.where([type(x) == str for x in current_country_df['Region'].values])[0][0]\n",
    "            region = current_country_df['Region'].values[region_name_pos]\n",
    "            current_country_df = current_country_df.replace(np.nan, region)\n",
    "            new_regions.append(current_country_df['Region'].values)"
   ]
  },
  {
   "cell_type": "code",
   "execution_count": 41,
   "metadata": {},
   "outputs": [],
   "source": [
    "new_regions = list(new_regions)\n",
    "k = 0\n",
    "region_vals = []\n",
    "for arr in new_regions:\n",
    "    for vals in arr:\n",
    "        region_vals.append(vals)\n",
    "        k+=1\n",
    "        \n",
    "len(region_vals)\n",
    "df['Region'] = region_vals\n"
   ]
  }
 ],
 "metadata": {
  "kernelspec": {
   "display_name": "Python 3 (ipykernel)",
   "language": "python",
   "name": "python3"
  },
  "language_info": {
   "codemirror_mode": {
    "name": "ipython",
    "version": 3
   },
   "file_extension": ".py",
   "mimetype": "text/x-python",
   "name": "python",
   "nbconvert_exporter": "python",
   "pygments_lexer": "ipython3",
   "version": "3.10.6"
  }
 },
 "nbformat": 4,
 "nbformat_minor": 1
}
